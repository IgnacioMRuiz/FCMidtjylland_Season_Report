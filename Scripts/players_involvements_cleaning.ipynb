{
 "cells": [
  {
   "cell_type": "code",
   "execution_count": 15,
   "metadata": {
    "execution": {
     "iopub.execute_input": "2024-02-14T09:03:13.347786Z",
     "iopub.status.busy": "2024-02-14T09:03:13.347480Z",
     "iopub.status.idle": "2024-02-14T09:03:13.627641Z",
     "shell.execute_reply": "2024-02-14T09:03:13.626748Z"
    }
   },
   "outputs": [],
   "source": [
    "import pandas as pd"
   ]
  },
  {
   "cell_type": "code",
   "execution_count": 16,
   "metadata": {
    "execution": {
     "iopub.execute_input": "2024-02-14T09:03:13.631373Z",
     "iopub.status.busy": "2024-02-14T09:03:13.630898Z",
     "iopub.status.idle": "2024-02-14T09:03:13.717872Z",
     "shell.execute_reply": "2024-02-14T09:03:13.717523Z"
    }
   },
   "outputs": [],
   "source": [
    "# Path to the 'Player Info.xlsx' file and import as df.\n",
    "players_involvements_path = \"/Users/nacho/Desktop/FCMidtjylland/Data/RawData/Players Involvements.xlsx\"\n",
    "players_involvements = pd.read_excel(players_involvements_path)"
   ]
  },
  {
   "cell_type": "code",
   "execution_count": 17,
   "metadata": {
    "execution": {
     "iopub.execute_input": "2024-02-14T09:03:13.719422Z",
     "iopub.status.busy": "2024-02-14T09:03:13.719317Z",
     "iopub.status.idle": "2024-02-14T09:03:13.756343Z",
     "shell.execute_reply": "2024-02-14T09:03:13.756060Z"
    }
   },
   "outputs": [],
   "source": [
    "# Function to transform the date to the desired format\n",
    "def transform_date(date_str):\n",
    "    return pd.to_datetime(date_str, format='%y%m%d').strftime('%d/%m/%y')\n",
    "\n",
    "# Extraction of new columns from the colum \"file\".\n",
    "players_involvements['Date'] = players_involvements['file'].apply(lambda x: transform_date(x.split('_')[0]))\n",
    "players_involvements['Match'] = players_involvements['file'].apply(lambda x: x.split('_')[1] + ' vs ' + x.split('_')[2])\n",
    "players_involvements['Match Result'] = players_involvements['file'].apply(lambda x: x.split('_')[3] + '-' + x.split('_')[4])\n",
    "players_involvements['Competition'] = players_involvements['file'].apply(lambda x: x.split('_')[-1])\n",
    "\n",
    "# Remove the 'file' column\n",
    "players_involvements.drop(columns=['file'], inplace=True)"
   ]
  },
  {
   "cell_type": "code",
   "execution_count": 18,
   "metadata": {
    "execution": {
     "iopub.execute_input": "2024-02-14T09:03:13.757545Z",
     "iopub.status.busy": "2024-02-14T09:03:13.757464Z",
     "iopub.status.idle": "2024-02-14T09:03:13.759689Z",
     "shell.execute_reply": "2024-02-14T09:03:13.759356Z"
    }
   },
   "outputs": [],
   "source": [
    "# Rename columns\n",
    "players_involvements.rename(columns={\n",
    "    'player_name': 'First Name',\n",
    "    'type': 'Action Type',\n",
    "    'Type': 'Play Type',\n",
    "    'Ends': 'Outcome'\n",
    "}, inplace=True)"
   ]
  },
  {
   "cell_type": "code",
   "execution_count": 19,
   "metadata": {},
   "outputs": [],
   "source": [
    "# Function to see if FCM has won or lost the match\n",
    "def determine_result(match, match_result):\n",
    "    teams = match.split(' vs ')\n",
    "    scores = match_result.split('-')\n",
    "    \n",
    "    # It is necessary to identify whether FCM is home or away and allocate goals accordingly.    \n",
    "    if teams[0] == 'FCM':\n",
    "        fcm_goals, opponent_goals = scores[0], scores[1]\n",
    "    else:\n",
    "        fcm_goals, opponent_goals = scores[1], scores[0]\n",
    "    \n",
    "    # Compare goals to determine the outcome\n",
    "    if int(fcm_goals) > int(opponent_goals):\n",
    "        return 'Won'\n",
    "    elif int(fcm_goals) < int(opponent_goals):\n",
    "        return 'Lost'\n",
    "    else:\n",
    "        return 'Draw'\n",
    "\n",
    "# Apply the function\n",
    "players_involvements['FCM Result'] = players_involvements.apply(lambda row: determine_result(row['Match'], row['Match Result']), axis=1)"
   ]
  },
  {
   "cell_type": "code",
   "execution_count": 20,
   "metadata": {
    "execution": {
     "iopub.execute_input": "2024-02-14T09:03:13.760811Z",
     "iopub.status.busy": "2024-02-14T09:03:13.760724Z",
     "iopub.status.idle": "2024-02-14T09:03:13.767113Z",
     "shell.execute_reply": "2024-02-14T09:03:13.766842Z"
    }
   },
   "outputs": [
    {
     "data": {
      "text/html": [
       "<div>\n",
       "<style scoped>\n",
       "    .dataframe tbody tr th:only-of-type {\n",
       "        vertical-align: middle;\n",
       "    }\n",
       "\n",
       "    .dataframe tbody tr th {\n",
       "        vertical-align: top;\n",
       "    }\n",
       "\n",
       "    .dataframe thead th {\n",
       "        text-align: right;\n",
       "    }\n",
       "</style>\n",
       "<table border=\"1\" class=\"dataframe\">\n",
       "  <thead>\n",
       "    <tr style=\"text-align: right;\">\n",
       "      <th></th>\n",
       "      <th>Action Type</th>\n",
       "      <th>Play Type</th>\n",
       "      <th>Outcome</th>\n",
       "      <th>First Name</th>\n",
       "      <th>Date</th>\n",
       "      <th>Match</th>\n",
       "      <th>Match Result</th>\n",
       "      <th>Competition</th>\n",
       "      <th>FCM Result</th>\n",
       "    </tr>\n",
       "  </thead>\n",
       "  <tbody>\n",
       "    <tr>\n",
       "      <th>0</th>\n",
       "      <td>Finish</td>\n",
       "      <td>Set Pieces</td>\n",
       "      <td>Small Chance</td>\n",
       "      <td>Elijah</td>\n",
       "      <td>01/11/23</td>\n",
       "      <td>FCM vs KLM</td>\n",
       "      <td>1-0</td>\n",
       "      <td>Superliga</td>\n",
       "      <td>Won</td>\n",
       "    </tr>\n",
       "    <tr>\n",
       "      <th>1</th>\n",
       "      <td>Finish</td>\n",
       "      <td>Set Pieces</td>\n",
       "      <td>Small Chance</td>\n",
       "      <td>Carter</td>\n",
       "      <td>01/11/23</td>\n",
       "      <td>FCM vs KLM</td>\n",
       "      <td>1-0</td>\n",
       "      <td>Superliga</td>\n",
       "      <td>Won</td>\n",
       "    </tr>\n",
       "    <tr>\n",
       "      <th>2</th>\n",
       "      <td>Finish</td>\n",
       "      <td>Set Pieces</td>\n",
       "      <td>Small Chance</td>\n",
       "      <td>Aiden</td>\n",
       "      <td>01/11/23</td>\n",
       "      <td>FCM vs KLM</td>\n",
       "      <td>1-0</td>\n",
       "      <td>Superliga</td>\n",
       "      <td>Won</td>\n",
       "    </tr>\n",
       "    <tr>\n",
       "      <th>3</th>\n",
       "      <td>Finish</td>\n",
       "      <td>Set Pieces</td>\n",
       "      <td>Big Chance</td>\n",
       "      <td>Ethan</td>\n",
       "      <td>01/11/23</td>\n",
       "      <td>FCM vs KLM</td>\n",
       "      <td>1-0</td>\n",
       "      <td>Superliga</td>\n",
       "      <td>Won</td>\n",
       "    </tr>\n",
       "    <tr>\n",
       "      <th>4</th>\n",
       "      <td>Finish</td>\n",
       "      <td>Open Play</td>\n",
       "      <td>Small Chance</td>\n",
       "      <td>Elijah</td>\n",
       "      <td>01/11/23</td>\n",
       "      <td>FCM vs KLM</td>\n",
       "      <td>1-0</td>\n",
       "      <td>Superliga</td>\n",
       "      <td>Won</td>\n",
       "    </tr>\n",
       "    <tr>\n",
       "      <th>...</th>\n",
       "      <td>...</td>\n",
       "      <td>...</td>\n",
       "      <td>...</td>\n",
       "      <td>...</td>\n",
       "      <td>...</td>\n",
       "      <td>...</td>\n",
       "      <td>...</td>\n",
       "      <td>...</td>\n",
       "      <td>...</td>\n",
       "    </tr>\n",
       "    <tr>\n",
       "      <th>483</th>\n",
       "      <td>2ndAssist</td>\n",
       "      <td>Open Play</td>\n",
       "      <td>Small Chance</td>\n",
       "      <td>Luke</td>\n",
       "      <td>12/10/23</td>\n",
       "      <td>STU vs FCM</td>\n",
       "      <td>3-5</td>\n",
       "      <td>Superliga</td>\n",
       "      <td>Won</td>\n",
       "    </tr>\n",
       "    <tr>\n",
       "      <th>484</th>\n",
       "      <td>2ndAssist</td>\n",
       "      <td>Open Play</td>\n",
       "      <td>Goal</td>\n",
       "      <td>Elijah</td>\n",
       "      <td>12/10/23</td>\n",
       "      <td>STU vs FCM</td>\n",
       "      <td>3-5</td>\n",
       "      <td>Superliga</td>\n",
       "      <td>Won</td>\n",
       "    </tr>\n",
       "    <tr>\n",
       "      <th>485</th>\n",
       "      <td>2ndAssist</td>\n",
       "      <td>Open Play</td>\n",
       "      <td>Goal</td>\n",
       "      <td>Alexander</td>\n",
       "      <td>12/10/23</td>\n",
       "      <td>STU vs FCM</td>\n",
       "      <td>3-5</td>\n",
       "      <td>Superliga</td>\n",
       "      <td>Won</td>\n",
       "    </tr>\n",
       "    <tr>\n",
       "      <th>486</th>\n",
       "      <td>2ndAssist</td>\n",
       "      <td>Open Play</td>\n",
       "      <td>Goal</td>\n",
       "      <td>Luke</td>\n",
       "      <td>12/10/23</td>\n",
       "      <td>STU vs FCM</td>\n",
       "      <td>3-5</td>\n",
       "      <td>Superliga</td>\n",
       "      <td>Won</td>\n",
       "    </tr>\n",
       "    <tr>\n",
       "      <th>487</th>\n",
       "      <td>2ndAssist</td>\n",
       "      <td>Counter Attack</td>\n",
       "      <td>Small Chance</td>\n",
       "      <td>Alexander</td>\n",
       "      <td>12/10/23</td>\n",
       "      <td>STU vs FCM</td>\n",
       "      <td>3-5</td>\n",
       "      <td>Superliga</td>\n",
       "      <td>Won</td>\n",
       "    </tr>\n",
       "  </tbody>\n",
       "</table>\n",
       "<p>488 rows × 9 columns</p>\n",
       "</div>"
      ],
      "text/plain": [
       "    Action Type       Play Type       Outcome First Name      Date  \\\n",
       "0        Finish      Set Pieces  Small Chance     Elijah  01/11/23   \n",
       "1        Finish      Set Pieces  Small Chance     Carter  01/11/23   \n",
       "2        Finish      Set Pieces  Small Chance      Aiden  01/11/23   \n",
       "3        Finish      Set Pieces    Big Chance      Ethan  01/11/23   \n",
       "4        Finish       Open Play  Small Chance     Elijah  01/11/23   \n",
       "..          ...             ...           ...        ...       ...   \n",
       "483   2ndAssist       Open Play  Small Chance       Luke  12/10/23   \n",
       "484   2ndAssist       Open Play          Goal     Elijah  12/10/23   \n",
       "485   2ndAssist       Open Play          Goal  Alexander  12/10/23   \n",
       "486   2ndAssist       Open Play          Goal       Luke  12/10/23   \n",
       "487   2ndAssist  Counter Attack  Small Chance  Alexander  12/10/23   \n",
       "\n",
       "          Match Match Result Competition FCM Result  \n",
       "0    FCM vs KLM          1-0   Superliga        Won  \n",
       "1    FCM vs KLM          1-0   Superliga        Won  \n",
       "2    FCM vs KLM          1-0   Superliga        Won  \n",
       "3    FCM vs KLM          1-0   Superliga        Won  \n",
       "4    FCM vs KLM          1-0   Superliga        Won  \n",
       "..          ...          ...         ...        ...  \n",
       "483  STU vs FCM          3-5   Superliga        Won  \n",
       "484  STU vs FCM          3-5   Superliga        Won  \n",
       "485  STU vs FCM          3-5   Superliga        Won  \n",
       "486  STU vs FCM          3-5   Superliga        Won  \n",
       "487  STU vs FCM          3-5   Superliga        Won  \n",
       "\n",
       "[488 rows x 9 columns]"
      ]
     },
     "execution_count": 20,
     "metadata": {},
     "output_type": "execute_result"
    }
   ],
   "source": [
    "players_involvements"
   ]
  },
  {
   "cell_type": "code",
   "execution_count": 21,
   "metadata": {
    "execution": {
     "iopub.execute_input": "2024-02-14T09:03:13.785253Z",
     "iopub.status.busy": "2024-02-14T09:03:13.785133Z",
     "iopub.status.idle": "2024-02-14T09:03:13.818623Z",
     "shell.execute_reply": "2024-02-14T09:03:13.818384Z"
    }
   },
   "outputs": [
    {
     "name": "stdout",
     "output_type": "stream",
     "text": [
      "File successfully exported in --> /Users/nacho/Desktop/FCMidtjylland/Data/ProcessedData/Players Involvements.xlsx\n"
     ]
    }
   ],
   "source": [
    "# Path to the output directory and export of the data frame\n",
    "output_path = \"/Users/nacho/Desktop/FCMidtjylland/Data/ProcessedData/Players Involvements.xlsx\"\n",
    "players_involvements.to_excel(output_path, index=False)\n",
    "\n",
    "print(f\"File successfully exported in --> {output_path}\")"
   ]
  }
 ],
 "metadata": {
  "kernelspec": {
   "display_name": "Python 3",
   "language": "python",
   "name": "python3"
  },
  "language_info": {
   "codemirror_mode": {
    "name": "ipython",
    "version": 3
   },
   "file_extension": ".py",
   "mimetype": "text/x-python",
   "name": "python",
   "nbconvert_exporter": "python",
   "pygments_lexer": "ipython3",
   "version": "3.9.6"
  }
 },
 "nbformat": 4,
 "nbformat_minor": 2
}
