{
 "cells": [
  {
   "cell_type": "code",
   "execution_count": 1,
   "metadata": {},
   "outputs": [],
   "source": [
    "import os\n",
    "import subprocess"
   ]
  },
  {
   "cell_type": "code",
   "execution_count": 2,
   "metadata": {},
   "outputs": [],
   "source": [
    "\n",
    "# Dictionary of notebooks with descriptive names as keys and paths as values\n",
    "notebooks = {\n",
    "    \"Player Names Master Cleaning\": \"/Users/nacho/Desktop/FCMidtjylland/Scripts/player_names_master_cleaning.ipynb\",\n",
    "    \"Players Info Cleaning\": \"/Users/nacho/Desktop/FCMidtjylland/Scripts/players_info_cleaning.ipynb\",\n",
    "    \"Players Involvements Cleaning\": \"/Users/nacho/Desktop/FCMidtjylland/Scripts/players_involvements_cleaning.ipynb\",\n",
    "    \"GPS Data Cleaning\": \"/Users/nacho/Desktop/FCMidtjylland/Scripts/gps_data_cleaning.ipynb\"\n",
    "}"
   ]
  },
  {
   "cell_type": "code",
   "execution_count": 3,
   "metadata": {},
   "outputs": [
    {
     "name": "stdout",
     "output_type": "stream",
     "text": [
      "Running: GPS Data Cleaning\n"
     ]
    },
    {
     "name": "stderr",
     "output_type": "stream",
     "text": [
      "[NbConvertApp] Converting notebook /Users/nacho/Desktop/FCMidtjylland/Scripts/gps_data_cleaning.ipynb to notebook\n",
      "[NbConvertApp] Writing 13974 bytes to /Users/nacho/Desktop/FCMidtjylland/Scripts/gps_data_cleaning.ipynb\n"
     ]
    },
    {
     "name": "stdout",
     "output_type": "stream",
     "text": [
      "Running: Player Names Master Cleaning\n"
     ]
    },
    {
     "name": "stderr",
     "output_type": "stream",
     "text": [
      "[NbConvertApp] Converting notebook /Users/nacho/Desktop/FCMidtjylland/Scripts/player_names_master_cleaning.ipynb to notebook\n",
      "[NbConvertApp] Writing 12392 bytes to /Users/nacho/Desktop/FCMidtjylland/Scripts/player_names_master_cleaning.ipynb\n"
     ]
    },
    {
     "name": "stdout",
     "output_type": "stream",
     "text": [
      "Running: Players Info Cleaning\n"
     ]
    },
    {
     "name": "stderr",
     "output_type": "stream",
     "text": [
      "[NbConvertApp] Converting notebook /Users/nacho/Desktop/FCMidtjylland/Scripts/players_info_cleaning.ipynb to notebook\n",
      "[NbConvertApp] Writing 14466 bytes to /Users/nacho/Desktop/FCMidtjylland/Scripts/players_info_cleaning.ipynb\n"
     ]
    },
    {
     "name": "stdout",
     "output_type": "stream",
     "text": [
      "Running: Players Involvements Cleaning\n"
     ]
    },
    {
     "name": "stderr",
     "output_type": "stream",
     "text": [
      "[NbConvertApp] Converting notebook /Users/nacho/Desktop/FCMidtjylland/Scripts/players_involvements_cleaning.ipynb to notebook\n"
     ]
    },
    {
     "name": "stdout",
     "output_type": "stream",
     "text": [
      "All notebooks have been executed correctly, the data has been cleaned correctly.\n"
     ]
    },
    {
     "name": "stderr",
     "output_type": "stream",
     "text": [
      "[NbConvertApp] Writing 11448 bytes to /Users/nacho/Desktop/FCMidtjylland/Scripts/players_involvements_cleaning.ipynb\n"
     ]
    }
   ],
   "source": [
    "# Run each notebook\n",
    "for name, path in notebooks.items():\n",
    "    print(f\"Running: {name}\")\n",
    "    cmd = f\"jupyter nbconvert --to notebook --execute --inplace '{path}'\"\n",
    "    subprocess.run(cmd, shell=True, check=True)\n",
    "\n",
    "print(\"All notebooks have been executed correctly, the data has been cleaned correctly.\")"
   ]
  }
 ],
 "metadata": {
  "kernelspec": {
   "display_name": "Python 3",
   "language": "python",
   "name": "python3"
  },
  "language_info": {
   "codemirror_mode": {
    "name": "ipython",
    "version": 3
   },
   "file_extension": ".py",
   "mimetype": "text/x-python",
   "name": "python",
   "nbconvert_exporter": "python",
   "pygments_lexer": "ipython3",
   "version": "3.9.6"
  }
 },
 "nbformat": 4,
 "nbformat_minor": 2
}
